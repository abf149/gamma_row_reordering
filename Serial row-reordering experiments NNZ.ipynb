{
 "cells": [
  {
   "cell_type": "markdown",
   "metadata": {},
   "source": [
    "# Serial row-reordering experiments"
   ]
  },
  {
   "cell_type": "code",
   "execution_count": 33,
   "metadata": {},
   "outputs": [],
   "source": [
    "import os\n",
    "import numpy as np\n",
    "import matplotlib.pyplot as plt\n",
    "\n",
    "# Dimension/density grid search\n",
    "\n",
    "metadata_row_range = [2000, 3000, 4000, 5000]\n",
    "#N_range = [2.0, 5.0, 10.0, 20.0, 50.0, 100.0, 200.0, 500.0, 1000.0, 2000.0, 5000.0, 10000.0, 20000]\n",
    "N_range = [500.0]\n",
    "\n",
    "num_md_rows = len(metadata_row_range)\n",
    "num_dens_vals = len(N_range)\n",
    "metadata_row_range = np.array(metadata_row_range)\n",
    "N_range = np.array(N_range)\n",
    "\n",
    "result_metadata_row = np.zeros((num_dens_vals,num_md_rows))\n",
    "result_N = np.zeros((num_dens_vals,num_md_rows))\n",
    "result_time = np.zeros((num_dens_vals,num_md_rows))"
   ]
  },
  {
   "cell_type": "code",
   "execution_count": 34,
   "metadata": {},
   "outputs": [
    {
     "name": "stdout",
     "output_type": "stream",
     "text": [
      "Row nonzeros: 500.0 % Rows: 2000\n",
      "Density: 25.000000\n",
      "- Allocating CSR memory.\n",
      "- CSR preview (2000 rows, 2000 columns, 1000272 edges, density 25.000000%):\n",
      "-- Vertices:\n",
      "vertices[0] == 0 \n",
      "vertices[1] == 498 \n",
      "vertices[2] == 971 \n",
      "vertices[3] == 1459 \n",
      "vertices[4] == 1943 \n",
      "\n",
      "...\n",
      "\n",
      "vertices[1996] == 998299 \n",
      "vertices[1997] == 998798 \n",
      "vertices[1998] == 999274 \n",
      "vertices[1999] == 999759 \n",
      "vertices[2000] == 1000272 \n",
      "-- Edges and values:\n",
      "edges[0] == 0 values[0] == 1.000000\n",
      "edges[1] == 7 values[1] == 1.000000\n",
      "edges[2] == 8 values[2] == 1.000000\n",
      "edges[3] == 14 values[3] == 1.000000\n",
      "edges[4] == 29 values[4] == 1.000000\n",
      "\n",
      "...\n",
      "\n",
      "edges[1000267] == 1984 values[1000267] == 1.000000\n",
      "edges[1000268] == 1988 values[1000268] == 1.000000\n",
      "edges[1000269] == 1992 values[1000269] == 1.000000\n",
      "edges[1000270] == 1996 values[1000270] == 1.000000\n",
      "edges[1000271] == 1997 values[1000271] == 1.000000\n",
      "Saving CSR representation to file.\n",
      "- Writing metadata line.\n",
      "- Writing vertices.\n",
      "- Writing edges.\n",
      "- Writing values.\n"
     ]
    },
    {
     "ename": "IndexError",
     "evalue": "list index out of range",
     "output_type": "error",
     "traceback": [
      "\u001b[0;31m---------------------------------------------------------------------------\u001b[0m",
      "\u001b[0;31mIndexError\u001b[0m                                Traceback (most recent call last)",
      "\u001b[0;32m/tmp/ipykernel_6148/1826341078.py\u001b[0m in \u001b[0;36m<module>\u001b[0;34m\u001b[0m\n\u001b[1;32m     15\u001b[0m             \u001b[0mrt\u001b[0m \u001b[0;34m=\u001b[0m \u001b[0mf\u001b[0m\u001b[0;34m.\u001b[0m\u001b[0mreadlines\u001b[0m\u001b[0;34m(\u001b[0m\u001b[0;34m)\u001b[0m\u001b[0;34m\u001b[0m\u001b[0;34m\u001b[0m\u001b[0m\n\u001b[1;32m     16\u001b[0m \u001b[0;34m\u001b[0m\u001b[0m\n\u001b[0;32m---> 17\u001b[0;31m         \u001b[0mresult_time\u001b[0m\u001b[0;34m[\u001b[0m\u001b[0mddx\u001b[0m\u001b[0;34m,\u001b[0m\u001b[0mrdx\u001b[0m\u001b[0;34m]\u001b[0m \u001b[0;34m=\u001b[0m \u001b[0mint\u001b[0m\u001b[0;34m(\u001b[0m\u001b[0mrt\u001b[0m\u001b[0;34m[\u001b[0m\u001b[0;36m0\u001b[0m\u001b[0;34m]\u001b[0m\u001b[0;34m.\u001b[0m\u001b[0mstrip\u001b[0m\u001b[0;34m(\u001b[0m\u001b[0;34m)\u001b[0m\u001b[0;34m)\u001b[0m\u001b[0;34m\u001b[0m\u001b[0;34m\u001b[0m\u001b[0m\n\u001b[0m",
      "\u001b[0;31mIndexError\u001b[0m: list index out of range"
     ]
    }
   ],
   "source": [
    "for rdx in range(num_md_rows):\n",
    "    for ddx in range(num_dens_vals):\n",
    "        metadata_rows = metadata_row_range[rdx]\n",
    "        N = N_range[ddx]\n",
    "        \n",
    "        result_metadata_row[ddx,rdx] = metadata_rows\n",
    "        result_N[ddx,rdx] = N\n",
    "        \n",
    "        print(\"Row nonzeros:\", N,\"% Rows:\",metadata_rows)\n",
    "        cli = \"./rcsr \" + str(metadata_rows) + \" \" + str(metadata_rows) + \" \" + str(min(100.0,100.0*N/float(metadata_rows))) + \"; ./sre < mat.csr > time.txt\"\n",
    "        os.system(cli)\n",
    "        \n",
    "        rt = 0\n",
    "        with open('time.txt') as f:\n",
    "            rt = f.readlines()\n",
    "        \n",
    "        result_time[ddx,rdx] = int(rt[0].strip())"
   ]
  },
  {
   "cell_type": "code",
   "execution_count": null,
   "metadata": {},
   "outputs": [],
   "source": [
    "import pickle\n",
    "\n",
    "data = {\"metadata_row_range\":metadata_row_range, \"N_range\":N_range, \\\n",
    "        \"num_md_rows\":num_md_rows, \"num_dens_vals\":num_dens_vals, \\\n",
    "        \"result_metadata_row\":result_metadata_row, \"result_N\":result_N, \\\n",
    "        \"result_time\":result_time}\n",
    "\n",
    "# open a file, where you ant to store the data\n",
    "file = open('serial_experiments_data', 'wb')\n",
    "\n",
    "# dump information to that file\n",
    "pickle.dump(data, file)\n",
    "\n",
    "# close the file\n",
    "file.close()"
   ]
  },
  {
   "cell_type": "code",
   "execution_count": null,
   "metadata": {},
   "outputs": [],
   "source": [
    "plt.figure(figsize=(12, 25), dpi=160)\n",
    "plt.subplot(311)\n",
    "for ddx in range(num_dens_vals):\n",
    "    plt.plot(result_metadata_row[ddx,:],result_time[ddx,:],'--o')\n",
    "plt.grid(True)\n",
    "plt.xlabel('Rows')\n",
    "plt.ylabel('Run-time (ms)')\n",
    "plt.title('Serial row-reordering: run-time scaling with square matrix dimension (vertex count)')\n",
    "plt.legend([\"row-NNZ=\"+str(n) for n in N_range])\n",
    "\n",
    "    \n",
    "plt.subplot(312)\n",
    "for rdx in range(num_md_rows):\n",
    "    plt.plot(result_N[:,rdx]/float(metadata_rows),result_time[:,rdx],'--o')\n",
    "plt.grid(True)\n",
    "plt.xlabel('Density')\n",
    "plt.ylabel('Run-time (ms)')\n",
    "plt.title('Serial row-reordering: run-time scaling with square matrix density')\n",
    "plt.legend([\"Rows=\"+str(r) for r in metadata_row_range])\n",
    "\n",
    "plt.subplot(313)\n",
    "for rdx in range(num_md_rows):\n",
    "    plt.plot(result_N[:,rdx],result_time[:,rdx],'--o')\n",
    "plt.grid(True)\n",
    "plt.xlabel('row-NNZ')\n",
    "plt.ylabel('Run-time (ms)')\n",
    "plt.title('Serial row-reordering: run-time scaling with average nonzeros in row (row-NNZ, density*row_dimension)')\n",
    "plt.legend([\"Rows=\"+str(r) for r in metadata_row_range])"
   ]
  },
  {
   "cell_type": "code",
   "execution_count": null,
   "metadata": {},
   "outputs": [],
   "source": [
    "plt.figure(figsize=(12, 25), dpi=160)\n",
    "plt.subplot(311)\n",
    "for ddx in range(num_dens_vals):\n",
    "    plt.plot(result_metadata_row[ddx,:],result_time[ddx,:]/metadata_row_range,'--o')\n",
    "plt.grid(True)\n",
    "plt.xlabel('Rows')\n",
    "plt.ylabel('Run-time (ms)')\n",
    "plt.title('Serial row-reordering: run-time scaling with square matrix dimension (vertex count)')\n",
    "plt.legend([\"row-NNZ=\"+str(n) for n in N_range])"
   ]
  },
  {
   "cell_type": "code",
   "execution_count": null,
   "metadata": {},
   "outputs": [],
   "source": []
  }
 ],
 "metadata": {
  "kernelspec": {
   "display_name": "Python 3 (ipykernel)",
   "language": "python",
   "name": "python3"
  },
  "language_info": {
   "codemirror_mode": {
    "name": "ipython",
    "version": 3
   },
   "file_extension": ".py",
   "mimetype": "text/x-python",
   "name": "python",
   "nbconvert_exporter": "python",
   "pygments_lexer": "ipython3",
   "version": "3.9.7"
  }
 },
 "nbformat": 4,
 "nbformat_minor": 2
}
